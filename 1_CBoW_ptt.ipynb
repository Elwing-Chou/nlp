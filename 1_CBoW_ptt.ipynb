{
  "nbformat": 4,
  "nbformat_minor": 0,
  "metadata": {
    "anaconda-cloud": {},
    "kernelspec": {
      "name": "python3",
      "display_name": "Python 3"
    },
    "language_info": {
      "codemirror_mode": {
        "name": "ipython",
        "version": 3
      },
      "file_extension": ".py",
      "mimetype": "text/x-python",
      "name": "python",
      "nbconvert_exporter": "python",
      "pygments_lexer": "ipython3",
      "version": "3.6.3"
    },
    "colab": {
      "provenance": []
    },
    "accelerator": "GPU"
  },
  "cells": [
    {
      "cell_type": "code",
      "metadata": {
        "id": "v2K5B1NgylQl"
      },
      "source": [
        "# 為了美觀 我把Future Warning關閉\n",
        "import warnings\n",
        "warnings.filterwarnings(\"ignore\", category=FutureWarning)"
      ],
      "execution_count": 1,
      "outputs": []
    },
    {
      "cell_type": "code",
      "source": [
        "import gdown\n",
        "output = \"pttsmalldata.zip\"\n",
        "id = \"1BT4h4-kzrtCS_52P2i7C1rlj1GZgEbs6\"\n",
        "gdown.download(id=id, output=output, quiet=False)"
      ],
      "metadata": {
        "colab": {
          "base_uri": "https://localhost:8080/",
          "height": 104
        },
        "id": "ukumNvFxL7ku",
        "outputId": "967680d5-1e3a-41e5-a5e9-5df76a0ea269"
      },
      "execution_count": 5,
      "outputs": [
        {
          "output_type": "stream",
          "name": "stderr",
          "text": [
            "Downloading...\n",
            "From: https://drive.google.com/uc?id=1BT4h4-kzrtCS_52P2i7C1rlj1GZgEbs6\n",
            "To: /content/pttsmalldata.zip\n",
            "100%|██████████| 49.2M/49.2M [00:00<00:00, 145MB/s]\n"
          ]
        },
        {
          "output_type": "execute_result",
          "data": {
            "text/plain": [
              "'pttsmalldata.zip'"
            ],
            "application/vnd.google.colaboratory.intrinsic+json": {
              "type": "string"
            }
          },
          "metadata": {},
          "execution_count": 5
        }
      ]
    },
    {
      "cell_type": "code",
      "metadata": {
        "id": "WsYylmXKr3QQ"
      },
      "source": [
        "# 把 zip 解壓縮到 data 資料夾\n",
        "import zipfile\n",
        "import os\n",
        "if not os.path.exists(\"data\"):\n",
        "    f = zipfile.ZipFile(\"./pttsmalldata.zip\")\n",
        "    f.extractall(\"./data\")\n",
        "    f.close()"
      ],
      "execution_count": 6,
      "outputs": []
    },
    {
      "cell_type": "code",
      "metadata": {
        "id": "j6h0bNWEtmd5",
        "outputId": "e30b3279-c17f-4a90-97be-0d3f80fef7d7",
        "colab": {
          "base_uri": "https://localhost:8080/",
          "height": 684
        }
      },
      "source": [
        "import glob\n",
        "import json\n",
        "import pandas as pd\n",
        "# 拿取所有 *.json 檔案\n",
        "fs = glob.glob(\"./data/pttsmalldata/*.json\")\n",
        "# 我們只取用 內文 標題 和 型態(問卦...等等)\n",
        "# 但實際上我們只使用 內文 做訓練而已\n",
        "contents = []\n",
        "titles = []\n",
        "types = []\n",
        "for fn in fs:\n",
        "    with open(fn, \"r\", encoding=\"utf-8\") as f:\n",
        "        data = json.load(f)\n",
        "        contents.append(data[\"post_content\"])\n",
        "        titles.append(data[\"post_title\"])\n",
        "        types.append(data[\"post_type\"])\n",
        "df = pd.DataFrame({\n",
        "    \"type\":types,\n",
        "    \"title\":titles,\n",
        "    \"content\":contents\n",
        "}, columns=[\"type\", \"title\", \"content\"])\n",
        "df"
      ],
      "execution_count": 7,
      "outputs": [
        {
          "output_type": "execute_result",
          "data": {
            "text/plain": [
              "      type                 title  \\\n",
              "0       問卦         看過除暴五恐龍的都幾歲了？   \n",
              "1       新聞   最新民調「郭柯、柯郭」聯盟皆勝英韓　林   \n",
              "2       問卦           我在香港，沒錢了怎麼辦   \n",
              "3       問卦   歐美怎麼不用體罰就能教出有教養的小孩？   \n",
              "4       問卦    上班不要看-爆尿公社鬼月篇的真實性？   \n",
              "...    ...                   ...   \n",
              "19995   問卦   獅子座男是不是爆幹扯 超自我感覺良好?   \n",
              "19996   新聞  大賺2020選票？國民黨：民進黨不要操弄   \n",
              "19997   問卦       刮完鬍子 帥度爆表 o'_'o   \n",
              "19998   問卦           有沒有喇叭敏感症的八卦   \n",
              "19999   問卦             沒有接到慰問電話?   \n",
              "\n",
              "                                                 content  \n",
              "0      \\n除暴五恐龍\\n\\n一部很勵志人心的卡通\\n\\n應該沒什麼人看過吧？\\n\\n看過的都幾歲了...  \n",
              "1      \\n1.媒體來源:\\n\\n風傳媒\\n\\n2.記者署名\\n\\n許玲瑄\\n\\n3.完整新聞標題:...  \n",
              "2      \\n我在香港，港幣帶不夠\\n請問有人現在也在香港的嗎？\\n我想要港幣1000，面交\\n我可以...  \n",
              "3      \\n華人小孩就是欠打 玩具不收好就是打到你收\\n\\n在外面鬼吼鬼叫就是打 打到你不敢叫\\n\\...  \n",
              "4      \\nhttps://youtu.be/AnzqRNkymvg\\n\\n前幾天看完後 一直有個疑...  \n",
              "...                                                  ...  \n",
              "19995  \\n小弟周遭朋友同學\\n\\n獅子座男性真的讓人受不了\\n\\n某案例 一個8+9沒背景沒老大靠...  \n",
              "19996  \\n今日新聞\\n\\n大賺2020選票？國民黨：民進黨不要操弄香港反送中！\\n\\n記者 陳弘志...  \n",
              "19997  \\n忙到一個禮拜沒刮鬍子了\\n看著鏡子裡那個滿嘴噁爛鬍子的我\\n感覺就像落魄的浪子\\n\\n如...  \n",
              "19998  \\n\\n\\n是說啊\\n\\n台灣人真的都不能忍受被按喇叭欸\\n\\n一下就逼車、砸車、打架\\n\\...  \n",
              "19999  \\n\\n最近看新聞 常常見到事情發生後\\n\\n當事人會7pupu的說 對方沒有來電慰問\\n\\...  \n",
              "\n",
              "[20000 rows x 3 columns]"
            ],
            "text/html": [
              "\n",
              "  <div id=\"df-82465790-b36e-4ab0-94eb-cb0a8763ae57\" class=\"colab-df-container\">\n",
              "    <div>\n",
              "<style scoped>\n",
              "    .dataframe tbody tr th:only-of-type {\n",
              "        vertical-align: middle;\n",
              "    }\n",
              "\n",
              "    .dataframe tbody tr th {\n",
              "        vertical-align: top;\n",
              "    }\n",
              "\n",
              "    .dataframe thead th {\n",
              "        text-align: right;\n",
              "    }\n",
              "</style>\n",
              "<table border=\"1\" class=\"dataframe\">\n",
              "  <thead>\n",
              "    <tr style=\"text-align: right;\">\n",
              "      <th></th>\n",
              "      <th>type</th>\n",
              "      <th>title</th>\n",
              "      <th>content</th>\n",
              "    </tr>\n",
              "  </thead>\n",
              "  <tbody>\n",
              "    <tr>\n",
              "      <th>0</th>\n",
              "      <td>問卦</td>\n",
              "      <td>看過除暴五恐龍的都幾歲了？</td>\n",
              "      <td>\\n除暴五恐龍\\n\\n一部很勵志人心的卡通\\n\\n應該沒什麼人看過吧？\\n\\n看過的都幾歲了...</td>\n",
              "    </tr>\n",
              "    <tr>\n",
              "      <th>1</th>\n",
              "      <td>新聞</td>\n",
              "      <td>最新民調「郭柯、柯郭」聯盟皆勝英韓　林</td>\n",
              "      <td>\\n1.媒體來源:\\n\\n風傳媒\\n\\n2.記者署名\\n\\n許玲瑄\\n\\n3.完整新聞標題:...</td>\n",
              "    </tr>\n",
              "    <tr>\n",
              "      <th>2</th>\n",
              "      <td>問卦</td>\n",
              "      <td>我在香港，沒錢了怎麼辦</td>\n",
              "      <td>\\n我在香港，港幣帶不夠\\n請問有人現在也在香港的嗎？\\n我想要港幣1000，面交\\n我可以...</td>\n",
              "    </tr>\n",
              "    <tr>\n",
              "      <th>3</th>\n",
              "      <td>問卦</td>\n",
              "      <td>歐美怎麼不用體罰就能教出有教養的小孩？</td>\n",
              "      <td>\\n華人小孩就是欠打 玩具不收好就是打到你收\\n\\n在外面鬼吼鬼叫就是打 打到你不敢叫\\n\\...</td>\n",
              "    </tr>\n",
              "    <tr>\n",
              "      <th>4</th>\n",
              "      <td>問卦</td>\n",
              "      <td>上班不要看-爆尿公社鬼月篇的真實性？</td>\n",
              "      <td>\\nhttps://youtu.be/AnzqRNkymvg\\n\\n前幾天看完後 一直有個疑...</td>\n",
              "    </tr>\n",
              "    <tr>\n",
              "      <th>...</th>\n",
              "      <td>...</td>\n",
              "      <td>...</td>\n",
              "      <td>...</td>\n",
              "    </tr>\n",
              "    <tr>\n",
              "      <th>19995</th>\n",
              "      <td>問卦</td>\n",
              "      <td>獅子座男是不是爆幹扯 超自我感覺良好?</td>\n",
              "      <td>\\n小弟周遭朋友同學\\n\\n獅子座男性真的讓人受不了\\n\\n某案例 一個8+9沒背景沒老大靠...</td>\n",
              "    </tr>\n",
              "    <tr>\n",
              "      <th>19996</th>\n",
              "      <td>新聞</td>\n",
              "      <td>大賺2020選票？國民黨：民進黨不要操弄</td>\n",
              "      <td>\\n今日新聞\\n\\n大賺2020選票？國民黨：民進黨不要操弄香港反送中！\\n\\n記者 陳弘志...</td>\n",
              "    </tr>\n",
              "    <tr>\n",
              "      <th>19997</th>\n",
              "      <td>問卦</td>\n",
              "      <td>刮完鬍子 帥度爆表 o'_'o</td>\n",
              "      <td>\\n忙到一個禮拜沒刮鬍子了\\n看著鏡子裡那個滿嘴噁爛鬍子的我\\n感覺就像落魄的浪子\\n\\n如...</td>\n",
              "    </tr>\n",
              "    <tr>\n",
              "      <th>19998</th>\n",
              "      <td>問卦</td>\n",
              "      <td>有沒有喇叭敏感症的八卦</td>\n",
              "      <td>\\n\\n\\n是說啊\\n\\n台灣人真的都不能忍受被按喇叭欸\\n\\n一下就逼車、砸車、打架\\n\\...</td>\n",
              "    </tr>\n",
              "    <tr>\n",
              "      <th>19999</th>\n",
              "      <td>問卦</td>\n",
              "      <td>沒有接到慰問電話?</td>\n",
              "      <td>\\n\\n最近看新聞 常常見到事情發生後\\n\\n當事人會7pupu的說 對方沒有來電慰問\\n\\...</td>\n",
              "    </tr>\n",
              "  </tbody>\n",
              "</table>\n",
              "<p>20000 rows × 3 columns</p>\n",
              "</div>\n",
              "    <div class=\"colab-df-buttons\">\n",
              "\n",
              "  <div class=\"colab-df-container\">\n",
              "    <button class=\"colab-df-convert\" onclick=\"convertToInteractive('df-82465790-b36e-4ab0-94eb-cb0a8763ae57')\"\n",
              "            title=\"Convert this dataframe to an interactive table.\"\n",
              "            style=\"display:none;\">\n",
              "\n",
              "  <svg xmlns=\"http://www.w3.org/2000/svg\" height=\"24px\" viewBox=\"0 -960 960 960\">\n",
              "    <path d=\"M120-120v-720h720v720H120Zm60-500h600v-160H180v160Zm220 220h160v-160H400v160Zm0 220h160v-160H400v160ZM180-400h160v-160H180v160Zm440 0h160v-160H620v160ZM180-180h160v-160H180v160Zm440 0h160v-160H620v160Z\"/>\n",
              "  </svg>\n",
              "    </button>\n",
              "\n",
              "  <style>\n",
              "    .colab-df-container {\n",
              "      display:flex;\n",
              "      gap: 12px;\n",
              "    }\n",
              "\n",
              "    .colab-df-convert {\n",
              "      background-color: #E8F0FE;\n",
              "      border: none;\n",
              "      border-radius: 50%;\n",
              "      cursor: pointer;\n",
              "      display: none;\n",
              "      fill: #1967D2;\n",
              "      height: 32px;\n",
              "      padding: 0 0 0 0;\n",
              "      width: 32px;\n",
              "    }\n",
              "\n",
              "    .colab-df-convert:hover {\n",
              "      background-color: #E2EBFA;\n",
              "      box-shadow: 0px 1px 2px rgba(60, 64, 67, 0.3), 0px 1px 3px 1px rgba(60, 64, 67, 0.15);\n",
              "      fill: #174EA6;\n",
              "    }\n",
              "\n",
              "    .colab-df-buttons div {\n",
              "      margin-bottom: 4px;\n",
              "    }\n",
              "\n",
              "    [theme=dark] .colab-df-convert {\n",
              "      background-color: #3B4455;\n",
              "      fill: #D2E3FC;\n",
              "    }\n",
              "\n",
              "    [theme=dark] .colab-df-convert:hover {\n",
              "      background-color: #434B5C;\n",
              "      box-shadow: 0px 1px 3px 1px rgba(0, 0, 0, 0.15);\n",
              "      filter: drop-shadow(0px 1px 2px rgba(0, 0, 0, 0.3));\n",
              "      fill: #FFFFFF;\n",
              "    }\n",
              "  </style>\n",
              "\n",
              "    <script>\n",
              "      const buttonEl =\n",
              "        document.querySelector('#df-82465790-b36e-4ab0-94eb-cb0a8763ae57 button.colab-df-convert');\n",
              "      buttonEl.style.display =\n",
              "        google.colab.kernel.accessAllowed ? 'block' : 'none';\n",
              "\n",
              "      async function convertToInteractive(key) {\n",
              "        const element = document.querySelector('#df-82465790-b36e-4ab0-94eb-cb0a8763ae57');\n",
              "        const dataTable =\n",
              "          await google.colab.kernel.invokeFunction('convertToInteractive',\n",
              "                                                    [key], {});\n",
              "        if (!dataTable) return;\n",
              "\n",
              "        const docLinkHtml = 'Like what you see? Visit the ' +\n",
              "          '<a target=\"_blank\" href=https://colab.research.google.com/notebooks/data_table.ipynb>data table notebook</a>'\n",
              "          + ' to learn more about interactive tables.';\n",
              "        element.innerHTML = '';\n",
              "        dataTable['output_type'] = 'display_data';\n",
              "        await google.colab.output.renderOutput(dataTable, element);\n",
              "        const docLink = document.createElement('div');\n",
              "        docLink.innerHTML = docLinkHtml;\n",
              "        element.appendChild(docLink);\n",
              "      }\n",
              "    </script>\n",
              "  </div>\n",
              "\n",
              "\n",
              "<div id=\"df-c3d1c9c9-20d8-46c8-8f03-9ef5bc2ae616\">\n",
              "  <button class=\"colab-df-quickchart\" onclick=\"quickchart('df-c3d1c9c9-20d8-46c8-8f03-9ef5bc2ae616')\"\n",
              "            title=\"Suggest charts\"\n",
              "            style=\"display:none;\">\n",
              "\n",
              "<svg xmlns=\"http://www.w3.org/2000/svg\" height=\"24px\"viewBox=\"0 0 24 24\"\n",
              "     width=\"24px\">\n",
              "    <g>\n",
              "        <path d=\"M19 3H5c-1.1 0-2 .9-2 2v14c0 1.1.9 2 2 2h14c1.1 0 2-.9 2-2V5c0-1.1-.9-2-2-2zM9 17H7v-7h2v7zm4 0h-2V7h2v10zm4 0h-2v-4h2v4z\"/>\n",
              "    </g>\n",
              "</svg>\n",
              "  </button>\n",
              "\n",
              "<style>\n",
              "  .colab-df-quickchart {\n",
              "      --bg-color: #E8F0FE;\n",
              "      --fill-color: #1967D2;\n",
              "      --hover-bg-color: #E2EBFA;\n",
              "      --hover-fill-color: #174EA6;\n",
              "      --disabled-fill-color: #AAA;\n",
              "      --disabled-bg-color: #DDD;\n",
              "  }\n",
              "\n",
              "  [theme=dark] .colab-df-quickchart {\n",
              "      --bg-color: #3B4455;\n",
              "      --fill-color: #D2E3FC;\n",
              "      --hover-bg-color: #434B5C;\n",
              "      --hover-fill-color: #FFFFFF;\n",
              "      --disabled-bg-color: #3B4455;\n",
              "      --disabled-fill-color: #666;\n",
              "  }\n",
              "\n",
              "  .colab-df-quickchart {\n",
              "    background-color: var(--bg-color);\n",
              "    border: none;\n",
              "    border-radius: 50%;\n",
              "    cursor: pointer;\n",
              "    display: none;\n",
              "    fill: var(--fill-color);\n",
              "    height: 32px;\n",
              "    padding: 0;\n",
              "    width: 32px;\n",
              "  }\n",
              "\n",
              "  .colab-df-quickchart:hover {\n",
              "    background-color: var(--hover-bg-color);\n",
              "    box-shadow: 0 1px 2px rgba(60, 64, 67, 0.3), 0 1px 3px 1px rgba(60, 64, 67, 0.15);\n",
              "    fill: var(--button-hover-fill-color);\n",
              "  }\n",
              "\n",
              "  .colab-df-quickchart-complete:disabled,\n",
              "  .colab-df-quickchart-complete:disabled:hover {\n",
              "    background-color: var(--disabled-bg-color);\n",
              "    fill: var(--disabled-fill-color);\n",
              "    box-shadow: none;\n",
              "  }\n",
              "\n",
              "  .colab-df-spinner {\n",
              "    border: 2px solid var(--fill-color);\n",
              "    border-color: transparent;\n",
              "    border-bottom-color: var(--fill-color);\n",
              "    animation:\n",
              "      spin 1s steps(1) infinite;\n",
              "  }\n",
              "\n",
              "  @keyframes spin {\n",
              "    0% {\n",
              "      border-color: transparent;\n",
              "      border-bottom-color: var(--fill-color);\n",
              "      border-left-color: var(--fill-color);\n",
              "    }\n",
              "    20% {\n",
              "      border-color: transparent;\n",
              "      border-left-color: var(--fill-color);\n",
              "      border-top-color: var(--fill-color);\n",
              "    }\n",
              "    30% {\n",
              "      border-color: transparent;\n",
              "      border-left-color: var(--fill-color);\n",
              "      border-top-color: var(--fill-color);\n",
              "      border-right-color: var(--fill-color);\n",
              "    }\n",
              "    40% {\n",
              "      border-color: transparent;\n",
              "      border-right-color: var(--fill-color);\n",
              "      border-top-color: var(--fill-color);\n",
              "    }\n",
              "    60% {\n",
              "      border-color: transparent;\n",
              "      border-right-color: var(--fill-color);\n",
              "    }\n",
              "    80% {\n",
              "      border-color: transparent;\n",
              "      border-right-color: var(--fill-color);\n",
              "      border-bottom-color: var(--fill-color);\n",
              "    }\n",
              "    90% {\n",
              "      border-color: transparent;\n",
              "      border-bottom-color: var(--fill-color);\n",
              "    }\n",
              "  }\n",
              "</style>\n",
              "\n",
              "  <script>\n",
              "    async function quickchart(key) {\n",
              "      const quickchartButtonEl =\n",
              "        document.querySelector('#' + key + ' button');\n",
              "      quickchartButtonEl.disabled = true;  // To prevent multiple clicks.\n",
              "      quickchartButtonEl.classList.add('colab-df-spinner');\n",
              "      try {\n",
              "        const charts = await google.colab.kernel.invokeFunction(\n",
              "            'suggestCharts', [key], {});\n",
              "      } catch (error) {\n",
              "        console.error('Error during call to suggestCharts:', error);\n",
              "      }\n",
              "      quickchartButtonEl.classList.remove('colab-df-spinner');\n",
              "      quickchartButtonEl.classList.add('colab-df-quickchart-complete');\n",
              "    }\n",
              "    (() => {\n",
              "      let quickchartButtonEl =\n",
              "        document.querySelector('#df-c3d1c9c9-20d8-46c8-8f03-9ef5bc2ae616 button');\n",
              "      quickchartButtonEl.style.display =\n",
              "        google.colab.kernel.accessAllowed ? 'block' : 'none';\n",
              "    })();\n",
              "  </script>\n",
              "</div>\n",
              "\n",
              "  <div id=\"id_7e777869-58f3-4692-a8aa-6aec2679fc95\">\n",
              "    <style>\n",
              "      .colab-df-generate {\n",
              "        background-color: #E8F0FE;\n",
              "        border: none;\n",
              "        border-radius: 50%;\n",
              "        cursor: pointer;\n",
              "        display: none;\n",
              "        fill: #1967D2;\n",
              "        height: 32px;\n",
              "        padding: 0 0 0 0;\n",
              "        width: 32px;\n",
              "      }\n",
              "\n",
              "      .colab-df-generate:hover {\n",
              "        background-color: #E2EBFA;\n",
              "        box-shadow: 0px 1px 2px rgba(60, 64, 67, 0.3), 0px 1px 3px 1px rgba(60, 64, 67, 0.15);\n",
              "        fill: #174EA6;\n",
              "      }\n",
              "\n",
              "      [theme=dark] .colab-df-generate {\n",
              "        background-color: #3B4455;\n",
              "        fill: #D2E3FC;\n",
              "      }\n",
              "\n",
              "      [theme=dark] .colab-df-generate:hover {\n",
              "        background-color: #434B5C;\n",
              "        box-shadow: 0px 1px 3px 1px rgba(0, 0, 0, 0.15);\n",
              "        filter: drop-shadow(0px 1px 2px rgba(0, 0, 0, 0.3));\n",
              "        fill: #FFFFFF;\n",
              "      }\n",
              "    </style>\n",
              "    <button class=\"colab-df-generate\" onclick=\"generateWithVariable('df')\"\n",
              "            title=\"Generate code using this dataframe.\"\n",
              "            style=\"display:none;\">\n",
              "\n",
              "  <svg xmlns=\"http://www.w3.org/2000/svg\" height=\"24px\"viewBox=\"0 0 24 24\"\n",
              "       width=\"24px\">\n",
              "    <path d=\"M7,19H8.4L18.45,9,17,7.55,7,17.6ZM5,21V16.75L18.45,3.32a2,2,0,0,1,2.83,0l1.4,1.43a1.91,1.91,0,0,1,.58,1.4,1.91,1.91,0,0,1-.58,1.4L9.25,21ZM18.45,9,17,7.55Zm-12,3A5.31,5.31,0,0,0,4.9,8.1,5.31,5.31,0,0,0,1,6.5,5.31,5.31,0,0,0,4.9,4.9,5.31,5.31,0,0,0,6.5,1,5.31,5.31,0,0,0,8.1,4.9,5.31,5.31,0,0,0,12,6.5,5.46,5.46,0,0,0,6.5,12Z\"/>\n",
              "  </svg>\n",
              "    </button>\n",
              "    <script>\n",
              "      (() => {\n",
              "      const buttonEl =\n",
              "        document.querySelector('#id_7e777869-58f3-4692-a8aa-6aec2679fc95 button.colab-df-generate');\n",
              "      buttonEl.style.display =\n",
              "        google.colab.kernel.accessAllowed ? 'block' : 'none';\n",
              "\n",
              "      buttonEl.onclick = () => {\n",
              "        google.colab.notebook.generateWithVariable('df');\n",
              "      }\n",
              "      })();\n",
              "    </script>\n",
              "  </div>\n",
              "\n",
              "    </div>\n",
              "  </div>\n"
            ]
          },
          "metadata": {},
          "execution_count": 7
        }
      ]
    },
    {
      "cell_type": "code",
      "metadata": {
        "id": "oGz8py8SR6Op"
      },
      "source": [
        "# 由於訓練會花超級久時間, 挑選前十篇進行訓練\n",
        "df = df.head(10)"
      ],
      "execution_count": 8,
      "outputs": []
    },
    {
      "cell_type": "code",
      "metadata": {
        "id": "d6tz_6i8wOF8",
        "outputId": "d099f704-9353-418f-b595-3da61cde8212",
        "colab": {
          "base_uri": "https://localhost:8080/"
        }
      },
      "source": [
        "# 使用 jieba 進行分詞\n",
        "import jieba\n",
        "import os\n",
        "from urllib.request import urlretrieve\n",
        "\n",
        "# 使用大型字典\n",
        "big_dict_path = \"dict.txt.big\"\n",
        "if not os.path.exists(big_dict_path):\n",
        "    print(\"下載大型字典\")\n",
        "    url = \"https://github.com/fxsjy/jieba/raw/master/extra_dict/dict.txt.big\"\n",
        "    urlretrieve(url, big_dict_path)\n",
        "jieba.set_dictionary(big_dict_path)\n",
        "\n",
        "# 需加入一些鄉民常用字彙\n",
        "ptt_dict_path = \"ptt_dic.txt\"\n",
        "if os.path.exists(ptt_dict_path):\n",
        "    print(\"載入ptt專用詞典\")\n",
        "    jieba.load_userdict(ptt_dict_path)"
      ],
      "execution_count": 9,
      "outputs": [
        {
          "output_type": "stream",
          "name": "stdout",
          "text": [
            "下載大型字典\n"
          ]
        }
      ]
    },
    {
      "cell_type": "code",
      "metadata": {
        "id": "19C3FOiPzkWe"
      },
      "source": [
        "# 將標點符號去掉\n",
        "punct = set(u''':!),.:;?]}¢'\"、。〉》」』】〕〗〞︰︱︳﹐､﹒﹔﹕﹖﹗﹚﹜﹞！），．：；？｜｝︴︶︸︺︼︾﹀﹂﹄﹏､～￠々‖•·ˇˉ―--′’”([{£¥'\"‵〈《「『【〔〖（［｛￡￥〝︵︷︹︻︽︿﹁﹃﹙﹛﹝（｛“‘-—_…~/ －＊➜■─★☆=@<>◉é''')\n"
      ],
      "execution_count": 10,
      "outputs": []
    },
    {
      "cell_type": "code",
      "metadata": {
        "id": "Eq4HnOzBwJ2f",
        "outputId": "2ab9a922-de15-4aaa-c7a4-ef4e080e4588",
        "colab": {
          "base_uri": "https://localhost:8080/",
          "height": 211
        }
      },
      "source": [
        "import re\n",
        "content = df.iloc[0][\"content\"]\n",
        "# 去掉網址 ptt的文章內容基本上都會換行 我們順便把最後的換行字元去掉\n",
        "content = re.sub(r'https?:\\/\\/.*[\\r\\n]*', '', content)\n",
        "# 使用 filter 去掉標點符號\n",
        "content = \" \".join(filter(lambda x: x not in punct, jieba.cut(content)))\n",
        "# 去掉換行符號\n",
        "content = content.replace(\"\\n\", \"\").replace(\"\\r\", \"\")\n",
        "content"
      ],
      "execution_count": 11,
      "outputs": [
        {
          "output_type": "stream",
          "name": "stderr",
          "text": [
            "Building prefix dict from /content/dict.txt.big ...\n",
            "DEBUG:jieba:Building prefix dict from /content/dict.txt.big ...\n",
            "Dumping model to file cache /tmp/jieba.u501edca284da514cb68b53a20324f4e3.cache\n",
            "DEBUG:jieba:Dumping model to file cache /tmp/jieba.u501edca284da514cb68b53a20324f4e3.cache\n",
            "Loading model cost 1.267 seconds.\n",
            "DEBUG:jieba:Loading model cost 1.267 seconds.\n",
            "Prefix dict has been built successfully.\n",
            "DEBUG:jieba:Prefix dict has been built successfully.\n"
          ]
        },
        {
          "output_type": "execute_result",
          "data": {
            "text/plain": [
              "' 除暴 五 恐龍   一部 很 勵志 人心 的 卡通   應該 沒什麼 人 看過 吧   看過 的 都 幾歲 了 啊   有沒有 卦   -- '"
            ],
            "application/vnd.google.colaboratory.intrinsic+json": {
              "type": "string"
            }
          },
          "metadata": {},
          "execution_count": 11
        }
      ]
    },
    {
      "cell_type": "code",
      "metadata": {
        "id": "CC-SCc7p4woM",
        "outputId": "5af30de8-f153-445a-8b61-23e06854714d",
        "colab": {
          "base_uri": "https://localhost:8080/"
        }
      },
      "source": [
        "# 對表格的每一筆都做出轉換\n",
        "def process(content):\n",
        "    content = re.sub(r'https?:\\/\\/.*[\\r\\n]*', '', content)\n",
        "    content = \"\".join(filter(lambda x: x not in punct, content))\n",
        "    content = (\" \".join(jieba.cut(content))\n",
        "                  .replace(\"\\n\", \"\")\n",
        "                  .replace(\"\\r\", \"\"))\n",
        "    return content\n",
        "content_cut = df[\"content\"].apply(process)\n",
        "content_cut"
      ],
      "execution_count": 12,
      "outputs": [
        {
          "output_type": "execute_result",
          "data": {
            "text/plain": [
              "0     除暴 五 恐龍   一部 很 勵志 人心 的 卡通   應該 沒什麼 人 看過 吧   看...\n",
              "1     1 媒體 來源   風傳 媒   2 記者 署名   許玲 瑄   3 完整 新聞標題  ...\n",
              "2     我 在 香港 港幣 帶 不夠  請問 有人 現在 也 在 香港 的 嗎  我 想要 港幣 ...\n",
              "3     華人 小孩 就是 欠 打 玩具 不收 好 就是 打到 你 收   在 外面 鬼 吼 鬼 叫...\n",
              "4     前 幾天 看 完 後 一直 有個 疑問  小歐 感覺 到 有人 之後  在 3023 跟 ...\n",
              "5      之前 很多 人 很 喜歡 用  2014 年柯 O 哲 的話 去 打 臉 2019 年 ...\n",
              "6      小弟 慶幸 活在 這個 開心 的 城市   買 了 個 炸雞腿 便當   才 60 元 ...\n",
              "7     首先 哈哈 我 比 上面 那個 還多 05K   了不起 吧    那麼 問題 來 了 大...\n",
              "8     ※ 發文 無 16 小 標格 式 或 未 依 順序 任意 刪除 者 會 被刪 文   1 ...\n",
              "9     為 什麼 8 萬 包養 沒事 5k 買春 犯法   你 可以 花 幾萬 包養 女 大生 目...\n",
              "Name: content, dtype: object"
            ]
          },
          "metadata": {},
          "execution_count": 12
        }
      ]
    },
    {
      "cell_type": "code",
      "metadata": {
        "id": "S76aKoEodLcG"
      },
      "source": [
        "import numpy as np\n",
        "from tensorflow.keras.models import Sequential\n",
        "from tensorflow.keras.layers import Dense, Embedding, GlobalAveragePooling1D\n",
        "from tensorflow.keras.preprocessing import sequence\n",
        "from tensorflow.keras.utils import to_categorical\n",
        "from tensorflow.keras.preprocessing.text import Tokenizer\n",
        "import gensim"
      ],
      "execution_count": 24,
      "outputs": []
    },
    {
      "cell_type": "code",
      "metadata": {
        "id": "RN1HnhuOBTC7"
      },
      "source": [
        "# 太少字的句子我們去掉, 因為這樣無法移動\n",
        "corpus = [sentence for sentence in content_cut if sentence.count(' ') >= 2]\n",
        "# 將每一個詞轉成數字\n",
        "tokenizer = Tokenizer()\n",
        "tokenizer.fit_on_texts(corpus)\n",
        "corpus = tokenizer.texts_to_sequences(corpus)\n",
        "# 統計訓練資料有多少個詞\n",
        "nb_samples = sum(len(s) for s in corpus)\n",
        "# 統計我們有多少種詞\n",
        "V = len(tokenizer.word_index) + 1\n",
        "# 降維成100\n",
        "dim = 100\n",
        "# 上文取2 下文取2\n",
        "window_size = 2"
      ],
      "execution_count": 16,
      "outputs": []
    },
    {
      "cell_type": "code",
      "metadata": {
        "id": "nI9CbUbldLcM"
      },
      "source": [
        "def generate_data(corpus, window_size, V):\n",
        "    # 拿最多 上文(2) + 下文(2)\n",
        "    maxlen = window_size * 2\n",
        "    # 拿出每一句\n",
        "    for words in corpus:\n",
        "        L = len(words)\n",
        "        # 拿出每一個單字\n",
        "        for index, word in enumerate(words):\n",
        "            # contexts: [上文, 下文]\n",
        "            # labels: 目標\n",
        "            contexts = []\n",
        "            labels   = []\n",
        "            # 上文的最前面座號\n",
        "            s = index - window_size\n",
        "            # 下文的最後面座號\n",
        "            e = index + window_size\n",
        "            # range記得要多加1\n",
        "            contexts.append([words[i] for i in range(s, e + 1)\n",
        "                                      if 0 <= i < L and i != index])\n",
        "            labels.append(word)\n",
        "            # 少於四個的前面補上0\n",
        "            x = sequence.pad_sequences(contexts, maxlen=maxlen)\n",
        "            # 答案做出one-hot encoding\n",
        "            y = to_categorical(labels, V)\n",
        "            yield (x, y)"
      ],
      "execution_count": 25,
      "outputs": []
    },
    {
      "cell_type": "code",
      "metadata": {
        "id": "mDJpyJ5wdLcO",
        "colab": {
          "base_uri": "https://localhost:8080/"
        },
        "outputId": "84d5533b-d69b-4efc-e541-fc4f006e0642"
      },
      "source": [
        "cbow = Sequential()\n",
        "# 使用嵌入層來得到轉化過的語意\n",
        "cbow.add(Embedding(input_dim=V, output_dim=dim, input_length=window_size*2))\n",
        "# 針對4個詞的100語意做平均\n",
        "cbow.add(GlobalAveragePooling1D())\n",
        "# 輸出判斷\n",
        "cbow.add(Dense(V, activation='softmax'))\n",
        "cbow.summary()"
      ],
      "execution_count": 21,
      "outputs": [
        {
          "output_type": "stream",
          "name": "stdout",
          "text": [
            "Model: \"sequential_2\"\n",
            "_________________________________________________________________\n",
            " Layer (type)                Output Shape              Param #   \n",
            "=================================================================\n",
            " embedding_2 (Embedding)     (None, 4, 100)            70000     \n",
            "                                                                 \n",
            " global_average_pooling1d_1  (None, 100)               0         \n",
            "  (GlobalAveragePooling1D)                                       \n",
            "                                                                 \n",
            " dense_1 (Dense)             (None, 700)               70700     \n",
            "                                                                 \n",
            "=================================================================\n",
            "Total params: 140700 (549.61 KB)\n",
            "Trainable params: 140700 (549.61 KB)\n",
            "Non-trainable params: 0 (0.00 Byte)\n",
            "_________________________________________________________________\n"
          ]
        }
      ]
    },
    {
      "cell_type": "code",
      "metadata": {
        "id": "QL3V8zY-dLcQ"
      },
      "source": [
        "cbow.compile(loss='categorical_crossentropy', optimizer='adam')"
      ],
      "execution_count": 22,
      "outputs": []
    },
    {
      "cell_type": "code",
      "metadata": {
        "id": "Ts0nbEj7dLcS",
        "outputId": "d00c1b41-1dc1-46cb-8a3c-81381f88392b",
        "colab": {
          "base_uri": "https://localhost:8080/"
        }
      },
      "source": [
        "# 訓練十個epochs\n",
        "for i in range(10):\n",
        "    loss = 0.\n",
        "    for x, y in generate_data(corpus, window_size, V):\n",
        "        loss += cbow.train_on_batch(x, y)\n",
        "    print(\"-\" * 15, \"Iteration\", i, \"-\" * 15)\n",
        "    print(\"loss:\", loss)"
      ],
      "execution_count": 31,
      "outputs": [
        {
          "output_type": "stream",
          "name": "stdout",
          "text": [
            "--------------- Iteration 0 ---------------\n",
            "loss: 1452.5961354095489\n",
            "--------------- Iteration 1 ---------------\n",
            "loss: 1076.7466220017523\n",
            "--------------- Iteration 2 ---------------\n",
            "loss: 787.6164875980467\n",
            "--------------- Iteration 3 ---------------\n",
            "loss: 571.2596975909546\n",
            "--------------- Iteration 4 ---------------\n",
            "loss: 412.28722441755235\n",
            "--------------- Iteration 5 ---------------\n",
            "loss: 296.75339055480435\n",
            "--------------- Iteration 6 ---------------\n",
            "loss: 213.38747654738836\n",
            "--------------- Iteration 7 ---------------\n",
            "loss: 153.52714998461306\n",
            "--------------- Iteration 8 ---------------\n",
            "loss: 110.6750783023308\n",
            "--------------- Iteration 9 ---------------\n",
            "loss: 80.03276604198618\n"
          ]
        }
      ]
    },
    {
      "cell_type": "code",
      "metadata": {
        "id": "jeNluqHMdLcU",
        "colab": {
          "base_uri": "https://localhost:8080/"
        },
        "outputId": "d059d437-dfbf-4fc0-ade8-961b1ee3ddf7"
      },
      "source": [
        "# 準備寫入我們的向量\n",
        "f = open('vectors.txt' ,'w')\n",
        "f.write('{} {}\\n'.format(V-1, dim))"
      ],
      "execution_count": 27,
      "outputs": [
        {
          "output_type": "execute_result",
          "data": {
            "text/plain": [
              "8"
            ]
          },
          "metadata": {},
          "execution_count": 27
        }
      ]
    },
    {
      "cell_type": "code",
      "metadata": {
        "id": "oWPY31kOdLcW"
      },
      "source": [
        "vectors = cbow.get_weights()[0]\n",
        "for word, i in tokenizer.word_index.items():\n",
        "    # 存擋的時候必須是 2 3 1 這樣空白鍵在中間\n",
        "    # 但是在用join時裡面必須是字串, 所以先用map轉換成字串\n",
        "    str_vec = ' '.join(map(str, list(vectors[i, :])))\n",
        "    f.write('{} {}\\n'.format(word, str_vec))\n",
        "f.close()"
      ],
      "execution_count": 28,
      "outputs": []
    },
    {
      "cell_type": "code",
      "metadata": {
        "id": "7tY9Fk9tdLcY"
      },
      "source": [
        "w2v = gensim.models.KeyedVectors.load_word2vec_format('./vectors.txt', binary=False)"
      ],
      "execution_count": 29,
      "outputs": []
    },
    {
      "cell_type": "code",
      "metadata": {
        "id": "Z-c1gtFttOuM",
        "colab": {
          "base_uri": "https://localhost:8080/"
        },
        "outputId": "c94fea71-9234-46e0-8b61-d212bbd78f6f"
      },
      "source": [
        "w2v.most_similar(\"女生\")"
      ],
      "execution_count": 33,
      "outputs": [
        {
          "output_type": "execute_result",
          "data": {
            "text/plain": [
              "[('皮包', 0.8038417100906372),\n",
              " ('阿', 0.716313362121582),\n",
              " ('放', 0.6347060799598694),\n",
              " ('60007000', 0.5888465046882629),\n",
              " ('名字', 0.5794138312339783),\n",
              " ('錢', 0.5374957323074341),\n",
              " ('沒有', 0.49924588203430176),\n",
              " ('變法', 0.43230631947517395),\n",
              " ('最後', 0.42194804549217224),\n",
              " ('女', 0.40628981590270996)]"
            ]
          },
          "metadata": {},
          "execution_count": 33
        }
      ]
    },
    {
      "cell_type": "code",
      "metadata": {
        "id": "Vdz3yIOudLce",
        "colab": {
          "base_uri": "https://localhost:8080/"
        },
        "outputId": "51450a3b-5f53-4f69-9d90-8afb94286353"
      },
      "source": [
        "w2v.most_similar(\"台北\")"
      ],
      "execution_count": 34,
      "outputs": [
        {
          "output_type": "execute_result",
          "data": {
            "text/plain": [
              "[('市長', 0.6259551048278809),\n",
              " ('內文', 0.5991846323013306),\n",
              " ('高雄', 0.5583660006523132),\n",
              " ('連結', 0.5555239319801331),\n",
              " ('和', 0.5288509726524353),\n",
              " ('哲為', 0.5213826894760132),\n",
              " ('哲與', 0.5167677998542786),\n",
              " ('哲', 0.49126845598220825),\n",
              " ('瑜', 0.4685736894607544),\n",
              " ('韓國', 0.467721164226532)]"
            ]
          },
          "metadata": {},
          "execution_count": 34
        }
      ]
    }
  ]
}